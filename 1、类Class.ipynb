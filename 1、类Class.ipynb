{
 "cells": [
  {
   "cell_type": "markdown",
   "source": [
    "1. 只要调用类，就会自动运行init函数，以建立该类的一个具体对象。\n",
    "2. self指对象本身。\n",
    "3. 左右两边为双下划线的函数表示“特别挂钩”，即到相应的“操作”具备固定且不可改变的映射。"
   ],
   "metadata": {}
  },
  {
   "cell_type": "code",
   "execution_count": 2,
   "source": [
    "class Employee:\n",
    "    def __init__(self,name,job='staff',pay=5000):\n",
    "        self.name=name\n",
    "        self.job=job\n",
    "        self.pay=pay\n"
   ],
   "outputs": [],
   "metadata": {}
  },
  {
   "cell_type": "code",
   "execution_count": 3,
   "source": [
    "mary=Employee('Mary Taylor')"
   ],
   "outputs": [],
   "metadata": {}
  },
  {
   "cell_type": "code",
   "execution_count": 6,
   "source": [
    "print(mary.name)\n",
    "print(mary.job)\n",
    "print(mary.pay)"
   ],
   "outputs": [
    {
     "output_type": "stream",
     "name": "stdout",
     "text": [
      "Mary Taylor\n",
      "staff\n",
      "5000\n"
     ]
    }
   ],
   "metadata": {}
  },
  {
   "cell_type": "markdown",
   "source": [
    "name,job,pay是属性，firstName,lastName,giveRaise是方法，__repr__自动映射到print函数。"
   ],
   "metadata": {}
  },
  {
   "cell_type": "code",
   "execution_count": 34,
   "source": [
    "class Employee:\n",
    "    def __init__(self,name,job='staff',pay=5000):\n",
    "        self.name=name\n",
    "        self.job=job\n",
    "        self.pay=pay\n",
    "    def firstName(self):\n",
    "        return self.name.split()[0]\n",
    "    def lastName(self):\n",
    "        return self.name.split()[-1]\n",
    "    def giveRaise(self,percent):\n",
    "        self.pay*=(1+percent)\n",
    "    def __repr__(self):\n",
    "        return 'Employ:{}. Job:{}. Pay:{}'.format(self.name,self.job,self.pay)"
   ],
   "outputs": [],
   "metadata": {}
  },
  {
   "cell_type": "code",
   "execution_count": 36,
   "source": [
    "john=Employee('John E. Smith',job='teacher',pay=10000)\n",
    "john.firstName()"
   ],
   "outputs": [
    {
     "output_type": "execute_result",
     "data": {
      "text/plain": [
       "'John'"
      ]
     },
     "metadata": {},
     "execution_count": 36
    }
   ],
   "metadata": {}
  },
  {
   "cell_type": "code",
   "execution_count": 29,
   "source": [
    "john.giveRaise(0.1)\n",
    "john.pay"
   ],
   "outputs": [
    {
     "output_type": "execute_result",
     "data": {
      "text/plain": [
       "11000.0"
      ]
     },
     "metadata": {},
     "execution_count": 29
    }
   ],
   "metadata": {}
  },
  {
   "cell_type": "code",
   "execution_count": 41,
   "source": [
    "print(john)\n"
   ],
   "outputs": [
    {
     "output_type": "stream",
     "name": "stdout",
     "text": [
      "Employ:John E. Smith. Job:teacher. Pay:10000\n"
     ]
    }
   ],
   "metadata": {}
  },
  {
   "cell_type": "markdown",
   "source": [
    "1. 定义子类，子类继承母类的所有属性和方法，并可以具体定制。\n",
    "2. 子类可以有多个母类，且母类的优先权不同，如a(b,c)，则母类b的优先权大于母类c。"
   ],
   "metadata": {}
  },
  {
   "cell_type": "code",
   "execution_count": 40,
   "source": [
    "class Manager(Employee):\n",
    "    def giveRaise(self,percent,bonus):\n",
    "        self.pay*=(1+percent)\n",
    "        self.pay+=bonus"
   ],
   "outputs": [],
   "metadata": {}
  }
 ],
 "metadata": {
  "orig_nbformat": 4,
  "language_info": {
   "name": "python",
   "version": "3.8.10",
   "mimetype": "text/x-python",
   "codemirror_mode": {
    "name": "ipython",
    "version": 3
   },
   "pygments_lexer": "ipython3",
   "nbconvert_exporter": "python",
   "file_extension": ".py"
  },
  "kernelspec": {
   "name": "python3",
   "display_name": "Python 3.8.10 64-bit ('py38': conda)"
  },
  "interpreter": {
   "hash": "f1ffc00fb97475eb9496feab2a73d6a4b994cb3d02b9b32f35ae9ff01e27d2f8"
  }
 },
 "nbformat": 4,
 "nbformat_minor": 2
}