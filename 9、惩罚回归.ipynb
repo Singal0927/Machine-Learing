{
 "cells": [
  {
   "cell_type": "markdown",
   "source": [
    "# 惩罚回归\n",
    "过拟合：指不仅拟合了数据中的信号，而且拟合了很多噪音。"
   ],
   "metadata": {}
  },
  {
   "cell_type": "code",
   "execution_count": 1,
   "source": [
    "import numpy as np\n",
    "import pandas as pd\n",
    "import matplotlib.pyplot as plt\n",
    "from sklearn.model_selection import train_test_split,cross_val_score,KFold\n",
    "from sklearn.linear_model import Lasso,lasso_path,LassoCV,Ridge,RidgeCV,ElasticNet,ElasticNetCV,enet_path\n",
    "from sklearn.preprocessing import StandardScaler"
   ],
   "outputs": [],
   "metadata": {}
  },
  {
   "cell_type": "markdown",
   "source": [
    "# 一、数据处理\n",
    "该数据包含97个前列腺患者的数据，响应变量为lpsa（log of prostate specific antigen）,前列腺特异抗原对数。"
   ],
   "metadata": {}
  },
  {
   "cell_type": "code",
   "execution_count": 2,
   "source": [
    "data=pd.read_csv('/Users/singal/Desktop/MLPython_Data/prostate.csv')"
   ],
   "outputs": [],
   "metadata": {}
  },
  {
   "cell_type": "code",
   "execution_count": 3,
   "source": [
    "data.info()"
   ],
   "outputs": [
    {
     "output_type": "stream",
     "name": "stdout",
     "text": [
      "<class 'pandas.core.frame.DataFrame'>\n",
      "RangeIndex: 97 entries, 0 to 96\n",
      "Data columns (total 9 columns):\n",
      " #   Column   Non-Null Count  Dtype  \n",
      "---  ------   --------------  -----  \n",
      " 0   lcavol   97 non-null     float64\n",
      " 1   lweight  97 non-null     float64\n",
      " 2   age      97 non-null     int64  \n",
      " 3   lbph     97 non-null     float64\n",
      " 4   svi      97 non-null     int64  \n",
      " 5   lcp      97 non-null     float64\n",
      " 6   gleason  97 non-null     int64  \n",
      " 7   pgg45    97 non-null     int64  \n",
      " 8   lpsa     97 non-null     float64\n",
      "dtypes: float64(5), int64(4)\n",
      "memory usage: 6.9 KB\n"
     ]
    }
   ],
   "metadata": {}
  },
  {
   "cell_type": "code",
   "execution_count": 4,
   "source": [
    "data.head()"
   ],
   "outputs": [
    {
     "output_type": "execute_result",
     "data": {
      "text/html": [
       "<div>\n",
       "<style scoped>\n",
       "    .dataframe tbody tr th:only-of-type {\n",
       "        vertical-align: middle;\n",
       "    }\n",
       "\n",
       "    .dataframe tbody tr th {\n",
       "        vertical-align: top;\n",
       "    }\n",
       "\n",
       "    .dataframe thead th {\n",
       "        text-align: right;\n",
       "    }\n",
       "</style>\n",
       "<table border=\"1\" class=\"dataframe\">\n",
       "  <thead>\n",
       "    <tr style=\"text-align: right;\">\n",
       "      <th></th>\n",
       "      <th>lcavol</th>\n",
       "      <th>lweight</th>\n",
       "      <th>age</th>\n",
       "      <th>lbph</th>\n",
       "      <th>svi</th>\n",
       "      <th>lcp</th>\n",
       "      <th>gleason</th>\n",
       "      <th>pgg45</th>\n",
       "      <th>lpsa</th>\n",
       "    </tr>\n",
       "  </thead>\n",
       "  <tbody>\n",
       "    <tr>\n",
       "      <th>0</th>\n",
       "      <td>-0.579818</td>\n",
       "      <td>2.769459</td>\n",
       "      <td>50</td>\n",
       "      <td>-1.386294</td>\n",
       "      <td>0</td>\n",
       "      <td>-1.386294</td>\n",
       "      <td>6</td>\n",
       "      <td>0</td>\n",
       "      <td>-0.430783</td>\n",
       "    </tr>\n",
       "    <tr>\n",
       "      <th>1</th>\n",
       "      <td>-0.994252</td>\n",
       "      <td>3.319626</td>\n",
       "      <td>58</td>\n",
       "      <td>-1.386294</td>\n",
       "      <td>0</td>\n",
       "      <td>-1.386294</td>\n",
       "      <td>6</td>\n",
       "      <td>0</td>\n",
       "      <td>-0.162519</td>\n",
       "    </tr>\n",
       "    <tr>\n",
       "      <th>2</th>\n",
       "      <td>-0.510826</td>\n",
       "      <td>2.691243</td>\n",
       "      <td>74</td>\n",
       "      <td>-1.386294</td>\n",
       "      <td>0</td>\n",
       "      <td>-1.386294</td>\n",
       "      <td>7</td>\n",
       "      <td>20</td>\n",
       "      <td>-0.162519</td>\n",
       "    </tr>\n",
       "    <tr>\n",
       "      <th>3</th>\n",
       "      <td>-1.203973</td>\n",
       "      <td>3.282789</td>\n",
       "      <td>58</td>\n",
       "      <td>-1.386294</td>\n",
       "      <td>0</td>\n",
       "      <td>-1.386294</td>\n",
       "      <td>6</td>\n",
       "      <td>0</td>\n",
       "      <td>-0.162519</td>\n",
       "    </tr>\n",
       "    <tr>\n",
       "      <th>4</th>\n",
       "      <td>0.751416</td>\n",
       "      <td>3.432373</td>\n",
       "      <td>62</td>\n",
       "      <td>-1.386294</td>\n",
       "      <td>0</td>\n",
       "      <td>-1.386294</td>\n",
       "      <td>6</td>\n",
       "      <td>0</td>\n",
       "      <td>0.371564</td>\n",
       "    </tr>\n",
       "  </tbody>\n",
       "</table>\n",
       "</div>"
      ],
      "text/plain": [
       "     lcavol   lweight  age      lbph  svi       lcp  gleason  pgg45      lpsa\n",
       "0 -0.579818  2.769459   50 -1.386294    0 -1.386294        6      0 -0.430783\n",
       "1 -0.994252  3.319626   58 -1.386294    0 -1.386294        6      0 -0.162519\n",
       "2 -0.510826  2.691243   74 -1.386294    0 -1.386294        7     20 -0.162519\n",
       "3 -1.203973  3.282789   58 -1.386294    0 -1.386294        6      0 -0.162519\n",
       "4  0.751416  3.432373   62 -1.386294    0 -1.386294        6      0  0.371564"
      ]
     },
     "metadata": {},
     "execution_count": 4
    }
   ],
   "metadata": {}
  },
  {
   "cell_type": "markdown",
   "source": [
    "StandardScaler类，作用是将数据标准化。操作方式为：\n",
    "1. 生成一个scaler实例。\n",
    "2. 使用fit_transform方法或者依次使用fit和transform方法生成数据，dtype=array"
   ],
   "metadata": {}
  },
  {
   "cell_type": "code",
   "execution_count": 5,
   "source": [
    "X_raw=data.iloc[:,:-1]\n",
    "y=data.iloc[:,-1]\n",
    "scaler=StandardScaler()\n",
    "X=scaler.fit_transform(X_raw)#生成的X为array"
   ],
   "outputs": [],
   "metadata": {}
  },
  {
   "cell_type": "code",
   "execution_count": 6,
   "source": [
    "X.mean(axis=0)"
   ],
   "outputs": [
    {
     "output_type": "execute_result",
     "data": {
      "text/plain": [
       "array([ 4.57823928e-17,  2.89573634e-16,  4.13186095e-16, -2.43218962e-17,\n",
       "       -3.66259142e-17,  3.66259142e-17, -2.17466366e-17,  5.63695711e-17])"
      ]
     },
     "metadata": {},
     "execution_count": 6
    }
   ],
   "metadata": {}
  },
  {
   "cell_type": "code",
   "execution_count": 7,
   "source": [
    "X.std(axis=0)"
   ],
   "outputs": [
    {
     "output_type": "execute_result",
     "data": {
      "text/plain": [
       "array([1., 1., 1., 1., 1., 1., 1., 1.])"
      ]
     },
     "metadata": {},
     "execution_count": 7
    }
   ],
   "metadata": {}
  },
  {
   "cell_type": "markdown",
   "source": [
    "# 二、岭回归\n",
    "1. 理论基础：在严格多重共线性下，不存在唯一的OLS估计量$\\hat\\beta_{OLS}$，即存在许多$\\hat\\beta_{OLS}$，都能使$SSR=0$且$R^2=1$。为得到参数向量$\\beta$的唯一解，必须对其取值范围作出限制，进行正则化（regularization）。故在损失函数中加入惩罚项。\n",
    "$$\\underset{\\beta}{min}\\quad L(\\beta)=(y-X\\beta)^{'}(y-X\\beta)+\\lambda||\\beta||_2^2$$\n",
    "2. 岭回归估计量：在矩阵$X^{'}X$的主对角线上均加入一常数$\\lambda>0$称为调节参数，以缓解多重共线性，由此可得岭回归估计量。\n",
    "$$\\hat\\beta_{Ridge}=(X^{'}X+\\lambda I)^{-1}X^{'}y$$\n",
    "3. 均方误差为方差和偏差平方之和，虽然岭回归估计量是有偏的，但可大幅减少方差，从而使得岭回归估计量的均方误差可能比OLS估计量更小。\n",
    "$$MSE(\\hat\\beta)=var(\\hat\\beta)+\\left[Bias(\\hat\\beta)\\right]^2$$\n",
    "\n",
    "## 1、估计模型、计算r2和回归系数"
   ],
   "metadata": {}
  },
  {
   "cell_type": "code",
   "execution_count": 8,
   "source": [
    "model=Ridge()\n",
    "model.fit(X,y)#调节参数alpha默认为1\n",
    "model.score(X,y)"
   ],
   "outputs": [
    {
     "output_type": "execute_result",
     "data": {
      "text/plain": [
       "0.6632704474129987"
      ]
     },
     "metadata": {},
     "execution_count": 8
    }
   ],
   "metadata": {}
  },
  {
   "cell_type": "code",
   "execution_count": 9,
   "source": [
    "pd.DataFrame(model.coef_,index=X_raw.columns,columns=['coefficient'])"
   ],
   "outputs": [
    {
     "output_type": "execute_result",
     "data": {
      "text/html": [
       "<div>\n",
       "<style scoped>\n",
       "    .dataframe tbody tr th:only-of-type {\n",
       "        vertical-align: middle;\n",
       "    }\n",
       "\n",
       "    .dataframe tbody tr th {\n",
       "        vertical-align: top;\n",
       "    }\n",
       "\n",
       "    .dataframe thead th {\n",
       "        text-align: right;\n",
       "    }\n",
       "</style>\n",
       "<table border=\"1\" class=\"dataframe\">\n",
       "  <thead>\n",
       "    <tr style=\"text-align: right;\">\n",
       "      <th></th>\n",
       "      <th>coefficient</th>\n",
       "    </tr>\n",
       "  </thead>\n",
       "  <tbody>\n",
       "    <tr>\n",
       "      <th>lcavol</th>\n",
       "      <td>0.647349</td>\n",
       "    </tr>\n",
       "    <tr>\n",
       "      <th>lweight</th>\n",
       "      <td>0.264235</td>\n",
       "    </tr>\n",
       "    <tr>\n",
       "      <th>age</th>\n",
       "      <td>-0.151790</td>\n",
       "    </tr>\n",
       "    <tr>\n",
       "      <th>lbph</th>\n",
       "      <td>0.136945</td>\n",
       "    </tr>\n",
       "    <tr>\n",
       "      <th>svi</th>\n",
       "      <td>0.308259</td>\n",
       "    </tr>\n",
       "    <tr>\n",
       "      <th>lcp</th>\n",
       "      <td>-0.130742</td>\n",
       "    </tr>\n",
       "    <tr>\n",
       "      <th>gleason</th>\n",
       "      <td>0.037551</td>\n",
       "    </tr>\n",
       "    <tr>\n",
       "      <th>pgg45</th>\n",
       "      <td>0.119078</td>\n",
       "    </tr>\n",
       "  </tbody>\n",
       "</table>\n",
       "</div>"
      ],
      "text/plain": [
       "         coefficient\n",
       "lcavol      0.647349\n",
       "lweight     0.264235\n",
       "age        -0.151790\n",
       "lbph        0.136945\n",
       "svi         0.308259\n",
       "lcp        -0.130742\n",
       "gleason     0.037551\n",
       "pgg45       0.119078"
      ]
     },
     "metadata": {},
     "execution_count": 9
    }
   ],
   "metadata": {}
  },
  {
   "cell_type": "markdown",
   "source": [
    "## 2、系数路径图\n",
    "sklearn模块无Bridge系数路径图的对应函数，对于lasso和Elastic Net有系数路径的生成函数。"
   ],
   "metadata": {}
  },
  {
   "cell_type": "code",
   "execution_count": 10,
   "source": [
    "alphas=np.logspace(-3,6,100)\n",
    "coefs_r2=[]\n",
    "for alpha in alphas:\n",
    "    model=Ridge(alpha=alpha)\n",
    "    model.fit(X,y)\n",
    "    temp=model.coef_.tolist()#作用是转化为list，以便append r2\n",
    "    temp.append(model.score(X,y))\n",
    "    coefs_r2.append(temp)\n",
    "plt.xscale('log')\n",
    "plt.plot(alphas,coefs_r2)\n",
    "columns=X_raw.columns.tolist()\n",
    "columns.append('R2')\n",
    "plt.legend(columns)\n",
    "plt.title('Ridge Coefficient Path')\n",
    "plt.xlabel('Alpha(log scale)')\n",
    "plt.ylabel('Coefficients')"
   ],
   "outputs": [
    {
     "output_type": "execute_result",
     "data": {
      "text/plain": [
       "Text(0, 0.5, 'Coefficients')"
      ]
     },
     "metadata": {},
     "execution_count": 10
    },
    {
     "output_type": "display_data",
     "data": {
      "image/png": "[encoded data removed]",
      "text/plain": [
       "<Figure size 432x288 with 1 Axes>"
      ]
     },
     "metadata": {
      "needs_background": "light"
     }
    }
   ],
   "metadata": {}
  },
  {
   "cell_type": "markdown",
   "source": [
    "## 3、小样本下选择最优调节参数alpha\n",
    "小样本下应选择留一交叉验证，以扩大训练集容量，提高估计效率。\n",
    "\n",
    "RidgeCV类：cv:default=none，默认使用留一交叉验证法，只有使用该方法才能得到每个alpha的均方误差MSE，即store_cv_values=True，才有意义。"
   ],
   "metadata": {}
  },
  {
   "cell_type": "code",
   "execution_count": 11,
   "source": [
    "model=RidgeCV(alphas=alphas)#初步确定大致范围\n",
    "model.fit(X,y)\n",
    "model.alpha_"
   ],
   "outputs": [
    {
     "output_type": "stream",
     "name": "stderr",
     "text": [
      "/Users/singal/miniforge3/envs/py38/lib/python3.8/site-packages/sklearn/linear_model/_ridge.py:1421: RuntimeWarning: divide by zero encountered in reciprocal\n",
      "  w = ((singvals_sq + alpha) ** -1) - (alpha ** -1)\n"
     ]
    },
    {
     "output_type": "execute_result",
     "data": {
      "text/plain": [
       "6.5793322465756825"
      ]
     },
     "metadata": {},
     "execution_count": 11
    }
   ],
   "metadata": {}
  },
  {
   "cell_type": "code",
   "execution_count": 12,
   "source": [
    "alphas=np.linspace(1,10,1000)#再次精确范围\n",
    "model=RidgeCV(alphas=alphas,store_cv_values=True)\n",
    "model.fit(X,y)\n",
    "model.alpha_"
   ],
   "outputs": [
    {
     "output_type": "stream",
     "name": "stderr",
     "text": [
      "/Users/singal/miniforge3/envs/py38/lib/python3.8/site-packages/sklearn/linear_model/_ridge.py:1421: RuntimeWarning: divide by zero encountered in reciprocal\n",
      "  w = ((singvals_sq + alpha) ** -1) - (alpha ** -1)\n"
     ]
    },
    {
     "output_type": "execute_result",
     "data": {
      "text/plain": [
       "6.018018018018018"
      ]
     },
     "metadata": {},
     "execution_count": 12
    }
   ],
   "metadata": {}
  },
  {
   "cell_type": "markdown",
   "source": [
    "观察交叉验证结果的维数，以便后续取均值时选择axis=0 or 1。"
   ],
   "metadata": {}
  },
  {
   "cell_type": "code",
   "execution_count": 13,
   "source": [
    "model.cv_values_.shape"
   ],
   "outputs": [
    {
     "output_type": "execute_result",
     "data": {
      "text/plain": [
       "(97, 1000)"
      ]
     },
     "metadata": {},
     "execution_count": 13
    }
   ],
   "metadata": {}
  },
  {
   "cell_type": "code",
   "execution_count": 14,
   "source": [
    "mse=model.cv_values_.mean(axis=0)\n",
    "index_min=np.argmin(mse)\n",
    "alphas[index_min]"
   ],
   "outputs": [
    {
     "output_type": "execute_result",
     "data": {
      "text/plain": [
       "6.018018018018018"
      ]
     },
     "metadata": {},
     "execution_count": 14
    }
   ],
   "metadata": {}
  },
  {
   "cell_type": "markdown",
   "source": [
    "所得最优alpha与上文相同。"
   ],
   "metadata": {}
  },
  {
   "cell_type": "code",
   "execution_count": 15,
   "source": [
    "plt.plot(alphas,mse)\n",
    "plt.axvline(alphas[index_min],linestyle='--',color='k')#垂直于x轴画一条线\n",
    "plt.title('CV Mean Squard Error for Ridge Regression')\n",
    "plt.xlabel('Alpha')\n",
    "plt.ylabel('Mean Squard Error')"
   ],
   "outputs": [
    {
     "output_type": "execute_result",
     "data": {
      "text/plain": [
       "Text(0, 0.5, 'Mean Squard Error')"
      ]
     },
     "metadata": {},
     "execution_count": 15
    },
    {
     "output_type": "display_data",
     "data": {
      "image/png": "[encoded data removed]",
      "text/plain": [
       "<Figure size 432x288 with 1 Axes>"
      ]
     },
     "metadata": {
      "needs_background": "light"
     }
    }
   ],
   "metadata": {}
  },
  {
   "cell_type": "markdown",
   "source": [
    "最佳模型的回归系数："
   ],
   "metadata": {}
  },
  {
   "cell_type": "code",
   "execution_count": 16,
   "source": [
    "pd.DataFrame(model.coef_,index=X_raw.columns,columns=['Coefficient'])"
   ],
   "outputs": [
    {
     "output_type": "execute_result",
     "data": {
      "text/html": [
       "<div>\n",
       "<style scoped>\n",
       "    .dataframe tbody tr th:only-of-type {\n",
       "        vertical-align: middle;\n",
       "    }\n",
       "\n",
       "    .dataframe tbody tr th {\n",
       "        vertical-align: top;\n",
       "    }\n",
       "\n",
       "    .dataframe thead th {\n",
       "        text-align: right;\n",
       "    }\n",
       "</style>\n",
       "<table border=\"1\" class=\"dataframe\">\n",
       "  <thead>\n",
       "    <tr style=\"text-align: right;\">\n",
       "      <th></th>\n",
       "      <th>Coefficient</th>\n",
       "    </tr>\n",
       "  </thead>\n",
       "  <tbody>\n",
       "    <tr>\n",
       "      <th>lcavol</th>\n",
       "      <td>0.588011</td>\n",
       "    </tr>\n",
       "    <tr>\n",
       "      <th>lweight</th>\n",
       "      <td>0.258793</td>\n",
       "    </tr>\n",
       "    <tr>\n",
       "      <th>age</th>\n",
       "      <td>-0.128279</td>\n",
       "    </tr>\n",
       "    <tr>\n",
       "      <th>lbph</th>\n",
       "      <td>0.125946</td>\n",
       "    </tr>\n",
       "    <tr>\n",
       "      <th>svi</th>\n",
       "      <td>0.286343</td>\n",
       "    </tr>\n",
       "    <tr>\n",
       "      <th>lcp</th>\n",
       "      <td>-0.066195</td>\n",
       "    </tr>\n",
       "    <tr>\n",
       "      <th>gleason</th>\n",
       "      <td>0.044772</td>\n",
       "    </tr>\n",
       "    <tr>\n",
       "      <th>pgg45</th>\n",
       "      <td>0.098707</td>\n",
       "    </tr>\n",
       "  </tbody>\n",
       "</table>\n",
       "</div>"
      ],
      "text/plain": [
       "         Coefficient\n",
       "lcavol      0.588011\n",
       "lweight     0.258793\n",
       "age        -0.128279\n",
       "lbph        0.125946\n",
       "svi         0.286343\n",
       "lcp        -0.066195\n",
       "gleason     0.044772\n",
       "pgg45       0.098707"
      ]
     },
     "metadata": {},
     "execution_count": 16
    }
   ],
   "metadata": {}
  },
  {
   "cell_type": "markdown",
   "source": [
    "## 4、大样本下选择最优调节参数\n",
    "大样本下应使用10折交叉验证，以简化计算量。"
   ],
   "metadata": {}
  },
  {
   "cell_type": "code",
   "execution_count": 17,
   "source": [
    "kfold=KFold(n_splits=10,shuffle=True,random_state=1)\n",
    "model=RidgeCV(alphas=np.linspace(1,10,1000),cv=kfold)\n",
    "model.fit(X,y)\n",
    "model.alpha_"
   ],
   "outputs": [
    {
     "output_type": "execute_result",
     "data": {
      "text/plain": [
       "3.2522522522522523"
      ]
     },
     "metadata": {},
     "execution_count": 17
    }
   ],
   "metadata": {}
  },
  {
   "cell_type": "markdown",
   "source": [
    "# 三、Lasso回归 Least absolute shrinkage and selection operator\n",
    "1. 存在依据：在进行高维回归时，有时希望从大量特征变量中筛选出真正影响$y$的少数变量，此时一般期待真实模型为稀疏模型，Lasso回归起到筛选变量的作用。\n",
    "2. Lasso回归将惩罚项改为1-范数。\n",
    "$$\\underset{\\beta}{min}\\quad=(y-X\\beta)^{'}(y-X\\beta)+\\lambda||\\beta||_1$$\n",
    "3. Lasso估计量，又名套索估计量,由于绝对值函数并不光滑，使得Lasso的目标函数不可微，故一般情况下不存在解析解，但损失函数是连续凸函数，故可求次微分，从而进行数值迭代算法————坐标下降法。最后，标准正交化下Lasso问题具有解析解。\n",
    "$$\n",
    "\\beta_{k,lasso}=\n",
    "\\begin{cases}\n",
    "\\beta_{k,ols}-\\frac{\\lambda}{2} & \\beta_{k,ols}>\\frac{\\lambda}{2} \\\\\n",
    "\\beta_{k,ols}+\\frac{\\lambda}{2} & \\beta_{k,ols}<\\frac{\\lambda}{2} \\\\\n",
    "0 & \\beta_{k,ols}\\in[-\\frac{\\lambda}{2},\\frac{\\lambda}{2}] \\\\\n",
    "\\end{cases}$$\n",
    "4. Lasso估计量不仅收缩回归系数，而且在收缩过程中使得各变量的回归系数依次变为0，故具有筛选变量、得到稀疏矩阵的作用。\n",
    "\n",
    "## 1、估计模型、计算r2和回归系数"
   ],
   "metadata": {}
  },
  {
   "cell_type": "code",
   "execution_count": 18,
   "source": [
    "model=Lasso()\n",
    "model.fit(X,y)\n",
    "model.score(X,y)"
   ],
   "outputs": [
    {
     "output_type": "execute_result",
     "data": {
      "text/plain": [
       "0.0"
      ]
     },
     "metadata": {},
     "execution_count": 18
    }
   ],
   "metadata": {}
  },
  {
   "cell_type": "code",
   "execution_count": 19,
   "source": [
    "model.coef_"
   ],
   "outputs": [
    {
     "output_type": "execute_result",
     "data": {
      "text/plain": [
       "array([0., 0., 0., 0., 0., 0., 0., 0.])"
      ]
     },
     "metadata": {},
     "execution_count": 19
    }
   ],
   "metadata": {}
  },
  {
   "cell_type": "markdown",
   "source": [
    "r2和回归系数均为0，表明调节参数取值过大，Lasso类默认取值为1。"
   ],
   "metadata": {}
  },
  {
   "cell_type": "code",
   "execution_count": 20,
   "source": [
    "model=Lasso(alpha=0.1)#改为0.1\n",
    "model.fit(X,y)\n",
    "model.score(X,y)"
   ],
   "outputs": [
    {
     "output_type": "execute_result",
     "data": {
      "text/plain": [
       "0.6261113876338473"
      ]
     },
     "metadata": {},
     "execution_count": 20
    }
   ],
   "metadata": {}
  },
  {
   "cell_type": "markdown",
   "source": [
    "## 2、系数路径图\n",
    "1. lasso_path函数返回4个值。\n",
    "2. eps表示alpha最小值除以最大值1e-4，n_alphas表示alpha个数。\n",
    "3. 既可以指定alphas，也可以指定eps和n_alphas。"
   ],
   "metadata": {}
  },
  {
   "cell_type": "code",
   "execution_count": 21,
   "source": [
    "alphas,coefs=lasso_path(X,y,eps=1e-4)[:2]\n",
    "alphas.shape,coefs.shape"
   ],
   "outputs": [
    {
     "output_type": "execute_result",
     "data": {
      "text/plain": [
       "((100,), (8, 100))"
      ]
     },
     "metadata": {},
     "execution_count": 21
    }
   ],
   "metadata": {}
  },
  {
   "cell_type": "code",
   "execution_count": 22,
   "source": [
    "plt.figure(figsize=(15,5))\n",
    "plt.plot(alphas,coefs.T)\n",
    "plt.xscale('log')\n",
    "plt.legend(X_raw.columns)\n",
    "plt.xlabel('Alpha(log scale)')\n",
    "plt.ylabel('Coefficients')\n",
    "plt.title('Lasso Coefficients Path')\n",
    "plt.axvline(0,linestyle='--',color='k')"
   ],
   "outputs": [
    {
     "output_type": "execute_result",
     "data": {
      "text/plain": [
       "<matplotlib.lines.Line2D at 0x148a3fac0>"
      ]
     },
     "metadata": {},
     "execution_count": 22
    },
    {
     "output_type": "display_data",
     "data": {
      "image/png": "[encoded data removed]",
      "text/plain": [
       "<Figure size 1080x360 with 1 Axes>"
      ]
     },
     "metadata": {
      "needs_background": "light"
     }
    }
   ],
   "metadata": {}
  },
  {
   "cell_type": "markdown",
   "source": [
    "## 3、确定最优参数"
   ],
   "metadata": {}
  },
  {
   "cell_type": "code",
   "execution_count": 23,
   "source": [
    "alphas=np.logspace(-4,-2,100)\n",
    "model=LassoCV(alphas=alphas,cv=kfold)\n",
    "model.fit(X,y)\n",
    "model.alpha_"
   ],
   "outputs": [
    {
     "output_type": "execute_result",
     "data": {
      "text/plain": [
       "0.007220809018385471"
      ]
     },
     "metadata": {},
     "execution_count": 23
    }
   ],
   "metadata": {}
  },
  {
   "cell_type": "code",
   "execution_count": 24,
   "source": [
    "model.mse_path_.shape"
   ],
   "outputs": [
    {
     "output_type": "execute_result",
     "data": {
      "text/plain": [
       "(100, 10)"
      ]
     },
     "metadata": {},
     "execution_count": 24
    }
   ],
   "metadata": {}
  },
  {
   "cell_type": "code",
   "execution_count": 25,
   "source": [
    "mse=np.mean(model.mse_path_,axis=1)\n",
    "index_min=np.argmin(mse)\n",
    "alphas[index_min]"
   ],
   "outputs": [
    {
     "output_type": "execute_result",
     "data": {
      "text/plain": [
       "0.00013848863713938732"
      ]
     },
     "metadata": {},
     "execution_count": 25
    }
   ],
   "metadata": {}
  },
  {
   "cell_type": "markdown",
   "source": [
    "由此所得最优参数与上文的model.alpha_输出结果不一致，故采取手动验证。验证结果与使用model.alpha_的结果一致。"
   ],
   "metadata": {}
  },
  {
   "cell_type": "code",
   "execution_count": 26,
   "source": [
    "alphas=np.logspace(-4,-2,100)\n",
    "scores=[]\n",
    "for alpha in alphas:\n",
    "    model=Lasso(alpha=alpha)\n",
    "    scores_val=-cross_val_score(model,X,y,cv=kfold,scoring='neg_mean_squared_error')\n",
    "    scores.append(np.mean(scores_val))\n",
    "mse=np.array(scores)#argmin不能作用于list\n",
    "index_min=np.argmin(mse)\n",
    "plt.plot(alphas,scores)\n",
    "plt.xscale('log')\n",
    "plt.axvline(alphas[index_min],linestyle='--',color='k')\n",
    "plt.xlabel('Alpha(log scale)')\n",
    "plt.title('CV Error for Lasso')\n",
    "plt.ylabel('MSE')\n",
    "alphas[index_min]"
   ],
   "outputs": [
    {
     "output_type": "execute_result",
     "data": {
      "text/plain": [
       "0.007220809018385471"
      ]
     },
     "metadata": {},
     "execution_count": 26
    },
    {
     "output_type": "display_data",
     "data": {
      "image/png": "[encoded data removed]",
      "text/plain": [
       "<Figure size 432x288 with 1 Axes>"
      ]
     },
     "metadata": {
      "needs_background": "light"
     }
    }
   ],
   "metadata": {}
  },
  {
   "cell_type": "markdown",
   "source": [
    "# 四、弹性网估计量 Elastic Net\n",
    "1. Lasso回归也有缺陷，如当几个变量高度相关时，lasso可能随机选择其中一个，而岭回归无法起到筛选变量的作用，故引出弹性网估计量。\n",
    "2. 弹性网估计量损失函数中，同时包含1-范数$L_1$和2-范数$L_2$的惩罚项。\n",
    "$$\\underset{\\beta}{min}\\quad(y-X\\beta)^{'}(y-X\\beta)+\\lambda_1||\\beta||_1+\\lambda_2||\\beta||_2^2$$\n",
    "3. ElasticNet类中的l1_ratio表示：\n",
    "$$\\alpha=\\frac{\\lambda_1}{\\lambda_1+\\lambda_2}$$\n",
    "4. 故损失函数可改写为：\n",
    "$$\\underset{\\beta}{min}\\quad(y-X\\beta)^{'}(y-X\\beta)+\\lambda\\left[\\alpha||\\beta||_1+(1-\\alpha)||\\beta||_2^2\\right]$$\n",
    "\n",
    "## 1、估计模型、计算r2和回归系数"
   ],
   "metadata": {}
  },
  {
   "cell_type": "code",
   "execution_count": 27,
   "source": [
    "model=ElasticNet(alpha=0.1,l1_ratio=0.5)\n",
    "model.fit(X,y)\n",
    "model.score(X,y)"
   ],
   "outputs": [
    {
     "output_type": "execute_result",
     "data": {
      "text/plain": [
       "0.641941891532626"
      ]
     },
     "metadata": {},
     "execution_count": 27
    }
   ],
   "metadata": {}
  },
  {
   "cell_type": "code",
   "execution_count": 28,
   "source": [
    "pd.DataFrame(model.coef_,index=X_raw.columns,columns=['coefficients'])"
   ],
   "outputs": [
    {
     "output_type": "execute_result",
     "data": {
      "text/html": [
       "<div>\n",
       "<style scoped>\n",
       "    .dataframe tbody tr th:only-of-type {\n",
       "        vertical-align: middle;\n",
       "    }\n",
       "\n",
       "    .dataframe tbody tr th {\n",
       "        vertical-align: top;\n",
       "    }\n",
       "\n",
       "    .dataframe thead th {\n",
       "        text-align: right;\n",
       "    }\n",
       "</style>\n",
       "<table border=\"1\" class=\"dataframe\">\n",
       "  <thead>\n",
       "    <tr style=\"text-align: right;\">\n",
       "      <th></th>\n",
       "      <th>coefficients</th>\n",
       "    </tr>\n",
       "  </thead>\n",
       "  <tbody>\n",
       "    <tr>\n",
       "      <th>lcavol</th>\n",
       "      <td>0.553863</td>\n",
       "    </tr>\n",
       "    <tr>\n",
       "      <th>lweight</th>\n",
       "      <td>0.216887</td>\n",
       "    </tr>\n",
       "    <tr>\n",
       "      <th>age</th>\n",
       "      <td>-0.021952</td>\n",
       "    </tr>\n",
       "    <tr>\n",
       "      <th>lbph</th>\n",
       "      <td>0.065296</td>\n",
       "    </tr>\n",
       "    <tr>\n",
       "      <th>svi</th>\n",
       "      <td>0.236458</td>\n",
       "    </tr>\n",
       "    <tr>\n",
       "      <th>lcp</th>\n",
       "      <td>0.000000</td>\n",
       "    </tr>\n",
       "    <tr>\n",
       "      <th>gleason</th>\n",
       "      <td>0.001895</td>\n",
       "    </tr>\n",
       "    <tr>\n",
       "      <th>pgg45</th>\n",
       "      <td>0.059813</td>\n",
       "    </tr>\n",
       "  </tbody>\n",
       "</table>\n",
       "</div>"
      ],
      "text/plain": [
       "         coefficients\n",
       "lcavol       0.553863\n",
       "lweight      0.216887\n",
       "age         -0.021952\n",
       "lbph         0.065296\n",
       "svi          0.236458\n",
       "lcp          0.000000\n",
       "gleason      0.001895\n",
       "pgg45        0.059813"
      ]
     },
     "metadata": {},
     "execution_count": 28
    }
   ],
   "metadata": {}
  },
  {
   "cell_type": "markdown",
   "source": [
    "## 2、系数路径图\n",
    "enet_path函数使用方法与lasso_path函数相同。"
   ],
   "metadata": {}
  },
  {
   "cell_type": "code",
   "execution_count": 29,
   "source": [
    "alphas,coefs=enet_path(X,y,eps=1e-4,l1_ratio=0.5)[:2]\n",
    "alphas.shape,coefs.shape"
   ],
   "outputs": [
    {
     "output_type": "execute_result",
     "data": {
      "text/plain": [
       "((100,), (8, 100))"
      ]
     },
     "metadata": {},
     "execution_count": 29
    }
   ],
   "metadata": {}
  },
  {
   "cell_type": "code",
   "execution_count": 30,
   "source": [
    "plt.figure(figsize=(15,5))\n",
    "plt.plot(alphas,coefs.T)\n",
    "plt.xscale('log')\n",
    "plt.xlabel('Alpha(log scale)')\n",
    "plt.ylabel('Coefficients')\n",
    "plt.title('Elastic Net Coefficients Path')\n",
    "plt.axhline(0,linestyle='--',color='k')\n",
    "plt.legend(X_raw.columns)"
   ],
   "outputs": [
    {
     "output_type": "execute_result",
     "data": {
      "text/plain": [
       "<matplotlib.legend.Legend at 0x148a8bca0>"
      ]
     },
     "metadata": {},
     "execution_count": 30
    },
    {
     "output_type": "display_data",
     "data": {
      "image/png": "[encoded data removed]",
      "text/plain": [
       "<Figure size 1080x360 with 1 Axes>"
      ]
     },
     "metadata": {
      "needs_background": "light"
     }
    }
   ],
   "metadata": {}
  },
  {
   "cell_type": "markdown",
   "source": [
    "## 3、确定最优参数"
   ],
   "metadata": {}
  },
  {
   "cell_type": "code",
   "execution_count": 31,
   "source": [
    "alphas=np.logspace(-4,0,100)\n",
    "l1_ratio=[0.0001,0.001,0.01,0.1,0.5,1]\n",
    "model=ElasticNetCV(l1_ratio=l1_ratio,alphas=alphas,cv=kfold)\n",
    "model.fit(X,y)\n",
    "model.score(X,y)"
   ],
   "outputs": [
    {
     "output_type": "execute_result",
     "data": {
      "text/plain": [
       "0.6592730190729547"
      ]
     },
     "metadata": {},
     "execution_count": 31
    }
   ],
   "metadata": {}
  },
  {
   "cell_type": "code",
   "execution_count": 32,
   "source": [
    "model.alpha_,model.l1_ratio_"
   ],
   "outputs": [
    {
     "output_type": "execute_result",
     "data": {
      "text/plain": [
       "(0.07390722033525783, 0.0001)"
      ]
     },
     "metadata": {},
     "execution_count": 32
    }
   ],
   "metadata": {}
  },
  {
   "cell_type": "markdown",
   "source": [
    "最优l1_ratio为0.01，为该网格的最小值，且很接近与0，意味着$L_1$惩罚项系数应为0，故使用岭回归。\n",
    "# 五、结论"
   ],
   "metadata": {}
  },
  {
   "cell_type": "code",
   "execution_count": 33,
   "source": [
    "xtrain,xtest,ytrain,ytest=train_test_split(X,y,test_size=0.3,random_state=1)\n",
    "model=RidgeCV(alphas=np.linspace(1,20,1000))\n",
    "model.fit(xtrain,ytrain)\n",
    "model.alpha_"
   ],
   "outputs": [
    {
     "output_type": "stream",
     "name": "stderr",
     "text": [
      "/Users/singal/miniforge3/envs/py38/lib/python3.8/site-packages/sklearn/linear_model/_ridge.py:1421: RuntimeWarning: divide by zero encountered in reciprocal\n",
      "  w = ((singvals_sq + alpha) ** -1) - (alpha ** -1)\n"
     ]
    },
    {
     "output_type": "execute_result",
     "data": {
      "text/plain": [
       "10.756756756756758"
      ]
     },
     "metadata": {},
     "execution_count": 33
    }
   ],
   "metadata": {}
  },
  {
   "cell_type": "code",
   "execution_count": 34,
   "source": [
    "model.score(xtrain,ytrain),model.score(xtest,ytest)"
   ],
   "outputs": [
    {
     "output_type": "execute_result",
     "data": {
      "text/plain": [
       "(0.6760210841041481, 0.4558621521505103)"
      ]
     },
     "metadata": {},
     "execution_count": 34
    }
   ],
   "metadata": {}
  },
  {
   "cell_type": "markdown",
   "source": [
    "结果显示，虽然训练集的$R^2$达到0.678，而测试集的$R^2$只有0.456。因此，训练集的拟合优度明显高估了模型的预测能力。"
   ],
   "metadata": {}
  }
 ],
 "metadata": {
  "orig_nbformat": 4,
  "language_info": {
   "name": "python",
   "version": "3.8.10",
   "mimetype": "text/x-python",
   "codemirror_mode": {
    "name": "ipython",
    "version": 3
   },
   "pygments_lexer": "ipython3",
   "nbconvert_exporter": "python",
   "file_extension": ".py"
  },
  "kernelspec": {
   "name": "python3",
   "display_name": "Python 3.8.10 64-bit ('py38': conda)"
  },
  "interpreter": {
   "hash": "f1ffc00fb97475eb9496feab2a73d6a4b994cb3d02b9b32f35ae9ff01e27d2f8"
  }
 },
 "nbformat": 4,
 "nbformat_minor": 2
}