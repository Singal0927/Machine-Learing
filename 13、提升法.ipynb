{
 "cells": [
  {
   "cell_type": "markdown",
   "source": [
    "# 提升法\n",
    "## 基本思想：选择基学习器，并使每个基学习器正好弥补之前所有基学习器的缺点。"
   ],
   "metadata": {}
  },
  {
   "cell_type": "code",
   "execution_count": 67,
   "source": [
    "import numpy as np\n",
    "import pandas as pd\n",
    "import matplotlib.pyplot as plt\n",
    "import seaborn as sns\n",
    "from sklearn.model_selection import KFold,StratifiedKFold,train_test_split,RandomizedSearchCV\n",
    "from sklearn.ensemble import AdaBoostClassifier,GradientBoostingRegressor,GradientBoostingClassifier\n",
    "from sklearn.metrics import cohen_kappa_score,plot_roc_curve,mean_squared_error,confusion_matrix\n",
    "from sklearn.inspection import plot_partial_dependence\n",
    "from sklearn.datasets import load_boston"
   ],
   "outputs": [],
   "metadata": {}
  },
  {
   "cell_type": "markdown",
   "source": [
    "## 一、回归提升树\n",
    "最初的AdaBoost算法由于使用指数损失函数，故仅适用于分类问题。对于回归问题，可考虑在前向分段加法模型中使用误差平方损失函数，得：\n",
    "$$ \\underset{\\beta,G}{min}\\quad L[y_i,f_{m-1}(x_i)+\\beta G(x_i;\\gamma)]$$\n",
    "$$=[r_i^m-\\beta G(x_i;\\gamma)]^2$$\n",
    "该方法被称为回归问题的提升法，或2-范数提升法，若使用回归树作为基学习器，则称为回归提升树。\n",
    "特点：\n",
    "1. 提升法会因为决策树个数M过大而可能导致过拟合。\n",
    "2. 决策树的分裂次数d称为交互深度，$d=i$，则可考虑$i$个变量之间的交互效应。\n",
    "3. 学习率$\\eta$，也称为收缩参数，设定较小的学习率，可避免过拟合，是正则化方法的一种。\n",
    "\n",
    "回归问题也存在其他损失函数，如拉普拉斯损失函数（绝对损失函数），胡贝尔损失函数，综合了平方损失和绝对损失的优点。\n",
    "$$L[y,f(x)]=|y-f(x)|$$\n",
    "$$L[y,f(x)]=\n",
    "\\begin{cases}\n",
    "\\frac{1}{2}[y-f(x)]^2 &|y-f(x)|\\leq\\delta \\\\\n",
    "\\delta[|y-f(x)|-\\delta/2] &|y-f(x)|>\\delta\\\\\n",
    "\\end{cases}\n",
    "$$\n",
    "算法步骤：\n",
    "1. 初始化$f(x)=0$,残差即是响应变量$r_i=y_i$。\n",
    "2. 对于决策树$m=1,\\cdots,M$，进行M次for循环：\n",
    "   >使用数据${x_i,r_i}$，估计拥有d个分裂的决策树$G_m(x)$;  \n",
    "   >更新函数，$f(x)=f(x)+\\eta G_m(x)$  \n",
    "   >更新残差，$r_i=r_i-\\eta G_m(x)$\n",
    "3. 输出结果：$$f(x)=\\sum_{m=1}^{M}\\eta G_m(x)$$\n",
    "\n",
    "对于回归问题，若梯度提升法的基函数为决策树，则此时梯度提升法即为回归提升树。"
   ],
   "metadata": {}
  },
  {
   "cell_type": "code",
   "execution_count": 70,
   "source": [
    "data=load_boston()\n",
    "X=pd.DataFrame(data.data,columns=data.feature_names)\n",
    "y=data.target"
   ],
   "outputs": [],
   "metadata": {}
  },
  {
   "cell_type": "code",
   "execution_count": 11,
   "source": [
    "X.head()"
   ],
   "outputs": [
    {
     "output_type": "execute_result",
     "data": {
      "text/html": [
       "<div>\n",
       "<style scoped>\n",
       "    .dataframe tbody tr th:only-of-type {\n",
       "        vertical-align: middle;\n",
       "    }\n",
       "\n",
       "    .dataframe tbody tr th {\n",
       "        vertical-align: top;\n",
       "    }\n",
       "\n",
       "    .dataframe thead th {\n",
       "        text-align: right;\n",
       "    }\n",
       "</style>\n",
       "<table border=\"1\" class=\"dataframe\">\n",
       "  <thead>\n",
       "    <tr style=\"text-align: right;\">\n",
       "      <th></th>\n",
       "      <th>CRIM</th>\n",
       "      <th>ZN</th>\n",
       "      <th>INDUS</th>\n",
       "      <th>CHAS</th>\n",
       "      <th>NOX</th>\n",
       "      <th>RM</th>\n",
       "      <th>AGE</th>\n",
       "      <th>DIS</th>\n",
       "      <th>RAD</th>\n",
       "      <th>TAX</th>\n",
       "      <th>PTRATIO</th>\n",
       "      <th>B</th>\n",
       "      <th>LSTAT</th>\n",
       "    </tr>\n",
       "  </thead>\n",
       "  <tbody>\n",
       "    <tr>\n",
       "      <th>0</th>\n",
       "      <td>0.00632</td>\n",
       "      <td>18.0</td>\n",
       "      <td>2.31</td>\n",
       "      <td>0.0</td>\n",
       "      <td>0.538</td>\n",
       "      <td>6.575</td>\n",
       "      <td>65.2</td>\n",
       "      <td>4.0900</td>\n",
       "      <td>1.0</td>\n",
       "      <td>296.0</td>\n",
       "      <td>15.3</td>\n",
       "      <td>396.90</td>\n",
       "      <td>4.98</td>\n",
       "    </tr>\n",
       "    <tr>\n",
       "      <th>1</th>\n",
       "      <td>0.02731</td>\n",
       "      <td>0.0</td>\n",
       "      <td>7.07</td>\n",
       "      <td>0.0</td>\n",
       "      <td>0.469</td>\n",
       "      <td>6.421</td>\n",
       "      <td>78.9</td>\n",
       "      <td>4.9671</td>\n",
       "      <td>2.0</td>\n",
       "      <td>242.0</td>\n",
       "      <td>17.8</td>\n",
       "      <td>396.90</td>\n",
       "      <td>9.14</td>\n",
       "    </tr>\n",
       "    <tr>\n",
       "      <th>2</th>\n",
       "      <td>0.02729</td>\n",
       "      <td>0.0</td>\n",
       "      <td>7.07</td>\n",
       "      <td>0.0</td>\n",
       "      <td>0.469</td>\n",
       "      <td>7.185</td>\n",
       "      <td>61.1</td>\n",
       "      <td>4.9671</td>\n",
       "      <td>2.0</td>\n",
       "      <td>242.0</td>\n",
       "      <td>17.8</td>\n",
       "      <td>392.83</td>\n",
       "      <td>4.03</td>\n",
       "    </tr>\n",
       "    <tr>\n",
       "      <th>3</th>\n",
       "      <td>0.03237</td>\n",
       "      <td>0.0</td>\n",
       "      <td>2.18</td>\n",
       "      <td>0.0</td>\n",
       "      <td>0.458</td>\n",
       "      <td>6.998</td>\n",
       "      <td>45.8</td>\n",
       "      <td>6.0622</td>\n",
       "      <td>3.0</td>\n",
       "      <td>222.0</td>\n",
       "      <td>18.7</td>\n",
       "      <td>394.63</td>\n",
       "      <td>2.94</td>\n",
       "    </tr>\n",
       "    <tr>\n",
       "      <th>4</th>\n",
       "      <td>0.06905</td>\n",
       "      <td>0.0</td>\n",
       "      <td>2.18</td>\n",
       "      <td>0.0</td>\n",
       "      <td>0.458</td>\n",
       "      <td>7.147</td>\n",
       "      <td>54.2</td>\n",
       "      <td>6.0622</td>\n",
       "      <td>3.0</td>\n",
       "      <td>222.0</td>\n",
       "      <td>18.7</td>\n",
       "      <td>396.90</td>\n",
       "      <td>5.33</td>\n",
       "    </tr>\n",
       "  </tbody>\n",
       "</table>\n",
       "</div>"
      ],
      "text/plain": [
       "      CRIM    ZN  INDUS  CHAS    NOX     RM   AGE     DIS  RAD    TAX  \\\n",
       "0  0.00632  18.0   2.31   0.0  0.538  6.575  65.2  4.0900  1.0  296.0   \n",
       "1  0.02731   0.0   7.07   0.0  0.469  6.421  78.9  4.9671  2.0  242.0   \n",
       "2  0.02729   0.0   7.07   0.0  0.469  7.185  61.1  4.9671  2.0  242.0   \n",
       "3  0.03237   0.0   2.18   0.0  0.458  6.998  45.8  6.0622  3.0  222.0   \n",
       "4  0.06905   0.0   2.18   0.0  0.458  7.147  54.2  6.0622  3.0  222.0   \n",
       "\n",
       "   PTRATIO       B  LSTAT  \n",
       "0     15.3  396.90   4.98  \n",
       "1     17.8  396.90   9.14  \n",
       "2     17.8  392.83   4.03  \n",
       "3     18.7  394.63   2.94  \n",
       "4     18.7  396.90   5.33  "
      ]
     },
     "metadata": {},
     "execution_count": 11
    }
   ],
   "metadata": {}
  },
  {
   "cell_type": "code",
   "execution_count": 17,
   "source": [
    "y.reshape(-1,1)[:5]"
   ],
   "outputs": [
    {
     "output_type": "execute_result",
     "data": {
      "text/plain": [
       "array([[24. ],\n",
       "       [21.6],\n",
       "       [34.7],\n",
       "       [33.4],\n",
       "       [36.2]])"
      ]
     },
     "metadata": {},
     "execution_count": 17
    }
   ],
   "metadata": {}
  },
  {
   "cell_type": "code",
   "execution_count": 71,
   "source": [
    "xtrain,xtest,ytrain,ytest=train_test_split(X,y,test_size=0.3,random_state=1)"
   ],
   "outputs": [],
   "metadata": {}
  },
  {
   "cell_type": "code",
   "execution_count": 72,
   "source": [
    "model=GradientBoostingRegressor(random_state=123)\n",
    "model.fit(xtrain,ytrain)"
   ],
   "outputs": [
    {
     "output_type": "execute_result",
     "data": {
      "text/plain": [
       "GradientBoostingRegressor(random_state=123)"
      ]
     },
     "metadata": {},
     "execution_count": 72
    }
   ],
   "metadata": {}
  },
  {
   "cell_type": "code",
   "execution_count": 73,
   "source": [
    "model.score(xtrain,ytrain),model.score(xtest,ytest)"
   ],
   "outputs": [
    {
     "output_type": "execute_result",
     "data": {
      "text/plain": [
       "(0.9818725018961298, 0.9214598819200858)"
      ]
     },
     "metadata": {},
     "execution_count": 73
    }
   ],
   "metadata": {}
  },
  {
   "cell_type": "code",
   "execution_count": 76,
   "source": [
    "param_distributions={'n_estimators':range(1,301),'max_depth':range(1,11),'subsample':np.linspace(0.1,1,10),'learning_rate':np.linspace(0.1,1,10)}\n",
    "kfold=KFold(n_splits=10,shuffle=True,random_state=1)\n",
    "model=RandomizedSearchCV(estimator=GradientBoostingRegressor(random_state=123),param_distributions=param_distributions,n_iter=100,random_state=0)\n",
    "model.fit(xtrain,ytrain)"
   ],
   "outputs": [
    {
     "output_type": "execute_result",
     "data": {
      "text/plain": [
       "RandomizedSearchCV(estimator=GradientBoostingRegressor(random_state=123),\n",
       "                   n_iter=100,\n",
       "                   param_distributions={'learning_rate': array([0.1, 0.2, 0.3, 0.4, 0.5, 0.6, 0.7, 0.8, 0.9, 1. ]),\n",
       "                                        'max_depth': range(1, 11),\n",
       "                                        'n_estimators': range(1, 301),\n",
       "                                        'subsample': array([0.1, 0.2, 0.3, 0.4, 0.5, 0.6, 0.7, 0.8, 0.9, 1. ])},\n",
       "                   random_state=0)"
      ]
     },
     "metadata": {},
     "execution_count": 76
    }
   ],
   "metadata": {}
  },
  {
   "cell_type": "code",
   "execution_count": 77,
   "source": [
    "model.best_params_"
   ],
   "outputs": [
    {
     "output_type": "execute_result",
     "data": {
      "text/plain": [
       "{'subsample': 0.8, 'n_estimators': 188, 'max_depth': 3, 'learning_rate': 0.1}"
      ]
     },
     "metadata": {},
     "execution_count": 77
    }
   ],
   "metadata": {}
  },
  {
   "cell_type": "code",
   "execution_count": 78,
   "source": [
    "model=model.best_estimator_\n",
    "model.score(xtrain,ytrain),model.score(xtest,ytest)"
   ],
   "outputs": [
    {
     "output_type": "execute_result",
     "data": {
      "text/plain": [
       "(0.9933867162508212, 0.9174762355671893)"
      ]
     },
     "metadata": {},
     "execution_count": 78
    }
   ],
   "metadata": {}
  },
  {
   "cell_type": "code",
   "execution_count": 79,
   "source": [
    "index=np.argsort(model.feature_importances_)\n",
    "plt.figure(figsize=(20,5))\n",
    "sns.barplot(x=X.columns[index],y=model.feature_importances_[index])\n",
    "plt.xlabel('Feature')\n",
    "plt.ylabel('Feature Importances')\n",
    "plt.title('Gradient Boosting',fontsize=20)"
   ],
   "outputs": [
    {
     "output_type": "execute_result",
     "data": {
      "text/plain": [
       "Text(0.5, 1.0, 'Gradient Boosting')"
      ]
     },
     "metadata": {},
     "execution_count": 79
    },
    {
     "output_type": "display_data",
     "data": {
      "image/png": "[encoded data removed]",
      "text/plain": [
       "<Figure size 1440x360 with 1 Axes>"
      ]
     },
     "metadata": {
      "needs_background": "light"
     }
    }
   ],
   "metadata": {}
  },
  {
   "cell_type": "code",
   "execution_count": 80,
   "source": [
    "plot_partial_dependence(model,xtrain,['LSTAT','RM'])"
   ],
   "outputs": [
    {
     "output_type": "execute_result",
     "data": {
      "text/plain": [
       "<sklearn.inspection._plot.partial_dependence.PartialDependenceDisplay at 0x1648df790>"
      ]
     },
     "metadata": {},
     "execution_count": 80
    },
    {
     "output_type": "display_data",
     "data": {
      "image/png": "[encoded data removed]",
      "text/plain": [
       "<Figure size 432x288 with 3 Axes>"
      ]
     },
     "metadata": {
      "needs_background": "light"
     }
    }
   ],
   "metadata": {}
  },
  {
   "cell_type": "code",
   "execution_count": 82,
   "source": [
    "test_mse=[]\n",
    "for n_estimators in range(1,301):\n",
    "    model=GradientBoostingRegressor(n_estimators=n_estimators,max_depth=3,learning_rate=0.1,subsample=0.8)\n",
    "    model.fit(xtrain,ytrain)\n",
    "    pred=model.predict(xtest)\n",
    "    test_mse.append(mean_squared_error(ytest,pred))"
   ],
   "outputs": [],
   "metadata": {}
  },
  {
   "cell_type": "code",
   "execution_count": 83,
   "source": [
    "index=np.argmin(test_mse)\n",
    "plt.plot(range(1,301),test_mse)\n",
    "plt.axvline(x=index,linestyle='--',c='k')\n",
    "plt.xlabel('n_estimators')\n",
    "plt.ylabel('mean squared error')\n",
    "plt.title('MSE on Test Set')\n",
    "print(index)"
   ],
   "outputs": [
    {
     "output_type": "stream",
     "name": "stdout",
     "text": [
      "72\n"
     ]
    },
    {
     "output_type": "display_data",
     "data": {
      "image/png": "[encoded data removed]",
      "text/plain": [
       "<Figure size 432x288 with 1 Axes>"
      ]
     },
     "metadata": {
      "needs_background": "light"
     }
    }
   ],
   "metadata": {}
  },
  {
   "cell_type": "markdown",
   "source": [
    "## 二、二分类提升树\n",
    "梯度提升法是AdaBoost的更一般情况，以非参方法估计基函数，并在函数空间使用梯度下降法近似求解。具体算法步骤为：\n",
    "1. 初始化$F_0(x)=argmin \\sum_i^n L(y_i,c)$，即为最优的常值函数。\n",
    "2. 对于基函数$m=1,\\cdots,M$，进行M次for循环：\n",
    "   >计算准残差：$$r_i^m=-\\left \\lbrace \\frac{\\partial L[y_i,F(x_i)]}{\\partial F(x_i)}\\right \\rbrace_{F(x)=F_{m-1}(x)}$$\n",
    "   >将准残差对x进行回归：$$\\alpha_m=\\underset{\\alpha,\\beta}{argmin}\\sum_{i=1}^{n}\\left[r_i^m-\\beta h(x_i;\\alpha)\\right]^2$$\n",
    "   >计算最优步长：$$\\rho_m=\\underset{\\rho}{argmin}\\sum_{i=1}^n L[y_i,F_{m-1}(x_i)+\\rho h(x_i,\\alpha_m)]$$\n",
    "   >更新函数：$$F_m(x)=F_{m-1}(x)+\\rho_m h(x;\\alpha_m)$$\n",
    "3. 输出$F_M(x)$。\n",
    "\n",
    "根据损失函数的不同可分为：\n",
    "\n",
    "1. AdaBoost提升法，等价于使用指数损失函数的前向分段加法模型。每棵树均纠正上一棵树的错误，迫使分类器更加注重特征空间中错误分类的区域，故可降低偏差，同时由于平均化，故可降低方差。每估计完一棵树后，均更新权重：\n",
    "   $$w_i=w_i*exp\\lbrace{\\alpha_mI[y_i\\not= G_m(x_i)]}\\rbrace$$\n",
    "   最终结果为：$$G(x)=sign\\left[\\sum_{m=1}^{M}\\alpha_m G_m(x)\\right]$$\n",
    "   AdaBoost法已不常用，因为其对错误分类的数据更加挑剔，故若数据中噪音比较大，则AdaBoost的稳健型较差。\n",
    "2. 逻辑损失函数，又称二值交叉熵损失函数，对于负裕度的惩罚$-yf(x)$比指数函数更温和，且无0-1损失函数为不光滑的阶梯函数的缺点。\n",
    "   损失函数为：$$L[y,f(x)]=\\ln [1+exp(-yf(x))]$$\n"
   ],
   "metadata": {}
  },
  {
   "cell_type": "code",
   "execution_count": 103,
   "source": [
    "def get_metrics(matrix):\n",
    "\n",
    "    accuracy=(matrix[1,1]+matrix[0,0])/matrix.sum()\n",
    "    sensitivity=matrix[1,1]/matrix[1].sum()\n",
    "    recall=matrix[1,1]/(matrix[:,1]).sum()\n",
    "\n",
    "    return accuracy,sensitivity,recall\n",
    "\n",
    "def score_metrics_hyper(model):\n",
    "    \n",
    "    name=str(model).split('(')[0]\n",
    "    \n",
    "    pred=model.predict(xtest)\n",
    "    matrix=confusion_matrix(ytest,pred)\n",
    "    accuracy,sensitivity,recall=get_metrics(matrix)\n",
    "\n",
    "    print(f'{name}得分状况如下：')\n",
    "    print(f'训练集准确率为：{model.score(xtrain,ytrain)}')\n",
    "    print(f'测试集准确率为：{model.score(xtest,ytest)}')\n",
    "    print(f'准确率为：{accuracy}\\n灵敏度为：{sensitivity}\\n召回率为：{recall}')\n",
    "    print(f'最佳超参数集：{model.best_params_}')\n",
    "\n",
    "    plt.figure(figsize=(5,5))\n",
    "    sns.heatmap(matrix,annot=True,cmap='Blues',fmt='g')\n",
    "    plt.xlabel('Predicted Values')\n",
    "    plt.ylabel('Actual Values')\n",
    "    plt.title('Confusion Matrix of Test Data')\n",
    "    plt.tight_layout()\n",
    "\n",
    "    model=model.best_estimator_\n",
    "    index=np.argsort(model.feature_importances_)\n",
    "    \n",
    "    plt.figure(figsize=(20,5))\n",
    "    sns.barplot(x=X.columns[index],y=model.feature_importances_[index])\n",
    "    plt.xlabel('Feature')\n",
    "    plt.ylabel('Feature Importances')\n",
    "    plt.title(name,fontsize=20)\n",
    "    plt.tight_layout()\n",
    "\n",
    "def score_metrics(model):\n",
    "\n",
    "    name=str(model).split('(')[0]\n",
    "    \n",
    "    pred=model.predict(xtest)\n",
    "    matrix=confusion_matrix(ytest,pred)\n",
    "    accuracy,sensitivity,recall=get_metrics(matrix)\n",
    "\n",
    "    print(f'{name}得分状况如下：')\n",
    "    print(f'训练集准确率为：{model.score(xtrain,ytrain)}')\n",
    "    print(f'测试集准确率为：{model.score(xtest,ytest)}')\n",
    "    print(f'准确率为：{accuracy}\\n灵敏度为：{sensitivity}\\n召回率为：{recall}')\n",
    "\n",
    "    plt.figure(figsize=(5,5))\n",
    "    sns.heatmap(matrix,annot=True,cmap='Blues',fmt='g')\n",
    "    plt.xlabel('Predicted Values')\n",
    "    plt.ylabel('Actual Values')\n",
    "    plt.title('Confusion Matrix of Test Data')\n",
    "    plt.tight_layout()\n",
    "\n",
    "    index=np.argsort(model.feature_importances_)\n",
    "    \n",
    "    plt.figure(figsize=(20,5))\n",
    "    sns.barplot(x=X.columns[index],y=model.feature_importances_[index])\n",
    "    plt.xlabel('Feature')\n",
    "    plt.ylabel('Feature Importances')\n",
    "    plt.title(name,fontsize=20)\n",
    "    plt.tight_layout()\n"
   ],
   "outputs": [],
   "metadata": {}
  },
  {
   "cell_type": "code",
   "execution_count": 86,
   "source": [
    "data=pd.read_csv('/Users/singal/Desktop/Data/MLPython_Data/spam.csv')"
   ],
   "outputs": [],
   "metadata": {}
  },
  {
   "cell_type": "code",
   "execution_count": 52,
   "source": [
    "data.head()"
   ],
   "outputs": [
    {
     "output_type": "execute_result",
     "data": {
      "text/html": [
       "<div>\n",
       "<style scoped>\n",
       "    .dataframe tbody tr th:only-of-type {\n",
       "        vertical-align: middle;\n",
       "    }\n",
       "\n",
       "    .dataframe tbody tr th {\n",
       "        vertical-align: top;\n",
       "    }\n",
       "\n",
       "    .dataframe thead th {\n",
       "        text-align: right;\n",
       "    }\n",
       "</style>\n",
       "<table border=\"1\" class=\"dataframe\">\n",
       "  <thead>\n",
       "    <tr style=\"text-align: right;\">\n",
       "      <th></th>\n",
       "      <th>A.1</th>\n",
       "      <th>A.2</th>\n",
       "      <th>A.3</th>\n",
       "      <th>A.4</th>\n",
       "      <th>A.5</th>\n",
       "      <th>A.6</th>\n",
       "      <th>A.7</th>\n",
       "      <th>A.8</th>\n",
       "      <th>A.9</th>\n",
       "      <th>A.10</th>\n",
       "      <th>...</th>\n",
       "      <th>A.49</th>\n",
       "      <th>A.50</th>\n",
       "      <th>A.51</th>\n",
       "      <th>A.52</th>\n",
       "      <th>A.53</th>\n",
       "      <th>A.54</th>\n",
       "      <th>A.55</th>\n",
       "      <th>A.56</th>\n",
       "      <th>A.57</th>\n",
       "      <th>spam</th>\n",
       "    </tr>\n",
       "  </thead>\n",
       "  <tbody>\n",
       "    <tr>\n",
       "      <th>0</th>\n",
       "      <td>0.00</td>\n",
       "      <td>0.64</td>\n",
       "      <td>0.64</td>\n",
       "      <td>0.0</td>\n",
       "      <td>0.32</td>\n",
       "      <td>0.00</td>\n",
       "      <td>0.00</td>\n",
       "      <td>0.00</td>\n",
       "      <td>0.00</td>\n",
       "      <td>0.00</td>\n",
       "      <td>...</td>\n",
       "      <td>0.00</td>\n",
       "      <td>0.000</td>\n",
       "      <td>0.0</td>\n",
       "      <td>0.778</td>\n",
       "      <td>0.000</td>\n",
       "      <td>0.000</td>\n",
       "      <td>3.756</td>\n",
       "      <td>61</td>\n",
       "      <td>278</td>\n",
       "      <td>spam</td>\n",
       "    </tr>\n",
       "    <tr>\n",
       "      <th>1</th>\n",
       "      <td>0.21</td>\n",
       "      <td>0.28</td>\n",
       "      <td>0.50</td>\n",
       "      <td>0.0</td>\n",
       "      <td>0.14</td>\n",
       "      <td>0.28</td>\n",
       "      <td>0.21</td>\n",
       "      <td>0.07</td>\n",
       "      <td>0.00</td>\n",
       "      <td>0.94</td>\n",
       "      <td>...</td>\n",
       "      <td>0.00</td>\n",
       "      <td>0.132</td>\n",
       "      <td>0.0</td>\n",
       "      <td>0.372</td>\n",
       "      <td>0.180</td>\n",
       "      <td>0.048</td>\n",
       "      <td>5.114</td>\n",
       "      <td>101</td>\n",
       "      <td>1028</td>\n",
       "      <td>spam</td>\n",
       "    </tr>\n",
       "    <tr>\n",
       "      <th>2</th>\n",
       "      <td>0.06</td>\n",
       "      <td>0.00</td>\n",
       "      <td>0.71</td>\n",
       "      <td>0.0</td>\n",
       "      <td>1.23</td>\n",
       "      <td>0.19</td>\n",
       "      <td>0.19</td>\n",
       "      <td>0.12</td>\n",
       "      <td>0.64</td>\n",
       "      <td>0.25</td>\n",
       "      <td>...</td>\n",
       "      <td>0.01</td>\n",
       "      <td>0.143</td>\n",
       "      <td>0.0</td>\n",
       "      <td>0.276</td>\n",
       "      <td>0.184</td>\n",
       "      <td>0.010</td>\n",
       "      <td>9.821</td>\n",
       "      <td>485</td>\n",
       "      <td>2259</td>\n",
       "      <td>spam</td>\n",
       "    </tr>\n",
       "    <tr>\n",
       "      <th>3</th>\n",
       "      <td>0.00</td>\n",
       "      <td>0.00</td>\n",
       "      <td>0.00</td>\n",
       "      <td>0.0</td>\n",
       "      <td>0.63</td>\n",
       "      <td>0.00</td>\n",
       "      <td>0.31</td>\n",
       "      <td>0.63</td>\n",
       "      <td>0.31</td>\n",
       "      <td>0.63</td>\n",
       "      <td>...</td>\n",
       "      <td>0.00</td>\n",
       "      <td>0.137</td>\n",
       "      <td>0.0</td>\n",
       "      <td>0.137</td>\n",
       "      <td>0.000</td>\n",
       "      <td>0.000</td>\n",
       "      <td>3.537</td>\n",
       "      <td>40</td>\n",
       "      <td>191</td>\n",
       "      <td>spam</td>\n",
       "    </tr>\n",
       "    <tr>\n",
       "      <th>4</th>\n",
       "      <td>0.00</td>\n",
       "      <td>0.00</td>\n",
       "      <td>0.00</td>\n",
       "      <td>0.0</td>\n",
       "      <td>0.63</td>\n",
       "      <td>0.00</td>\n",
       "      <td>0.31</td>\n",
       "      <td>0.63</td>\n",
       "      <td>0.31</td>\n",
       "      <td>0.63</td>\n",
       "      <td>...</td>\n",
       "      <td>0.00</td>\n",
       "      <td>0.135</td>\n",
       "      <td>0.0</td>\n",
       "      <td>0.135</td>\n",
       "      <td>0.000</td>\n",
       "      <td>0.000</td>\n",
       "      <td>3.537</td>\n",
       "      <td>40</td>\n",
       "      <td>191</td>\n",
       "      <td>spam</td>\n",
       "    </tr>\n",
       "  </tbody>\n",
       "</table>\n",
       "<p>5 rows × 58 columns</p>\n",
       "</div>"
      ],
      "text/plain": [
       "    A.1   A.2   A.3  A.4   A.5   A.6   A.7   A.8   A.9  A.10  ...  A.49  \\\n",
       "0  0.00  0.64  0.64  0.0  0.32  0.00  0.00  0.00  0.00  0.00  ...  0.00   \n",
       "1  0.21  0.28  0.50  0.0  0.14  0.28  0.21  0.07  0.00  0.94  ...  0.00   \n",
       "2  0.06  0.00  0.71  0.0  1.23  0.19  0.19  0.12  0.64  0.25  ...  0.01   \n",
       "3  0.00  0.00  0.00  0.0  0.63  0.00  0.31  0.63  0.31  0.63  ...  0.00   \n",
       "4  0.00  0.00  0.00  0.0  0.63  0.00  0.31  0.63  0.31  0.63  ...  0.00   \n",
       "\n",
       "    A.50  A.51   A.52   A.53   A.54   A.55  A.56  A.57  spam  \n",
       "0  0.000   0.0  0.778  0.000  0.000  3.756    61   278  spam  \n",
       "1  0.132   0.0  0.372  0.180  0.048  5.114   101  1028  spam  \n",
       "2  0.143   0.0  0.276  0.184  0.010  9.821   485  2259  spam  \n",
       "3  0.137   0.0  0.137  0.000  0.000  3.537    40   191  spam  \n",
       "4  0.135   0.0  0.135  0.000  0.000  3.537    40   191  spam  \n",
       "\n",
       "[5 rows x 58 columns]"
      ]
     },
     "metadata": {},
     "execution_count": 52
    }
   ],
   "metadata": {}
  },
  {
   "cell_type": "code",
   "execution_count": 89,
   "source": [
    "X=data.iloc[:,:-1]\n",
    "y=data.iloc[:,-1]\n",
    "xtrain,xtest,ytrain,ytest=train_test_split(X,y,random_state=0,test_size=0.2,stratify=y)"
   ],
   "outputs": [],
   "metadata": {}
  },
  {
   "cell_type": "code",
   "execution_count": 97,
   "source": [
    "model=AdaBoostClassifier(random_state=123)#自适应提升法分类器默认使用SAMME.R算法\n",
    "score_metrics(model.fit(xtrain,ytrain))"
   ],
   "outputs": [
    {
     "output_type": "stream",
     "name": "stdout",
     "text": [
      "AdaBoostClassifier得分状况如下：\n",
      "训练集准确率为：0.9456521739130435\n",
      "测试集准确率为：0.9489685124864278\n",
      "准确率为：0.9489685124864278\n",
      "灵敏度为：0.9504132231404959\n",
      "召回率为：0.9224598930481284\n"
     ]
    },
    {
     "output_type": "display_data",
     "data": {
      "image/png": "[encoded data removed]",
      "text/plain": [
       "<Figure size 360x360 with 2 Axes>"
      ]
     },
     "metadata": {
      "needs_background": "light"
     }
    },
    {
     "output_type": "display_data",
     "data": {
      "image/png": "[encoded data removed]",
      "text/plain": [
       "<Figure size 1440x360 with 1 Axes>"
      ]
     },
     "metadata": {
      "needs_background": "light"
     }
    }
   ],
   "metadata": {}
  },
  {
   "cell_type": "code",
   "execution_count": 98,
   "source": [
    "model=GradientBoostingClassifier(random_state=123)\n",
    "score_metrics(model.fit(xtrain,ytrain))"
   ],
   "outputs": [
    {
     "output_type": "stream",
     "name": "stdout",
     "text": [
      "GradientBoostingClassifier得分状况如下：\n",
      "训练集准确率为：0.9641304347826087\n",
      "测试集准确率为：0.9543973941368078\n",
      "准确率为：0.9543973941368078\n",
      "灵敏度为：0.931129476584022\n",
      "召回率为：0.952112676056338\n"
     ]
    },
    {
     "output_type": "display_data",
     "data": {
      "image/png": "[encoded data removed]",
      "text/plain": [
       "<Figure size 360x360 with 2 Axes>"
      ]
     },
     "metadata": {
      "needs_background": "light"
     }
    },
    {
     "output_type": "display_data",
     "data": {
      "image/png": "[encoded data removed]",
      "text/plain": [
       "<Figure size 1440x360 with 1 Axes>"
      ]
     },
     "metadata": {
      "needs_background": "light"
     }
    }
   ],
   "metadata": {}
  },
  {
   "cell_type": "code",
   "execution_count": 104,
   "source": [
    "model=RandomizedSearchCV(GradientBoostingClassifier(random_state=123),param_distributions=param_distributions,n_iter=10,cv=kfold,random_state=66)\n",
    "score_metrics_hyper(model.fit(xtrain,ytrain))"
   ],
   "outputs": [
    {
     "output_type": "stream",
     "name": "stdout",
     "text": [
      "RandomizedSearchCV得分状况如下：\n",
      "训练集准确率为：0.9994565217391305\n",
      "测试集准确率为：0.9500542888165038\n",
      "准确率为：0.9500542888165038\n",
      "灵敏度为：0.9421487603305785\n",
      "召回率为：0.9318801089918256\n",
      "最佳超参数集：{'subsample': 1.0, 'n_estimators': 123, 'max_depth': 7, 'learning_rate': 0.5}\n"
     ]
    },
    {
     "output_type": "display_data",
     "data": {
      "image/png": "[encoded data removed]",
      "text/plain": [
       "<Figure size 360x360 with 2 Axes>"
      ]
     },
     "metadata": {
      "needs_background": "light"
     }
    },
    {
     "output_type": "display_data",
     "data": {
      "image/png": "[encoded data removed]",
      "text/plain": [
       "<Figure size 1440x360 with 1 Axes>"
      ]
     },
     "metadata": {
      "needs_background": "light"
     }
    }
   ],
   "metadata": {}
  },
  {
   "cell_type": "markdown",
   "source": [
    "## 三、多分类提升树\n",
    "多分类提升树的损失函数，又称交叉熵损失函数：$$ L[y,f(x)]=\\sum_{k=1}^K I(y_i=k)\\ln P(y_i=k|x_i)$$"
   ],
   "metadata": {}
  },
  {
   "cell_type": "code",
   "execution_count": 105,
   "source": [
    "data=pd.read_csv('/Users/singal/Desktop/Data/MLPython_Data/Glass.csv')\n",
    "data.head()"
   ],
   "outputs": [
    {
     "output_type": "execute_result",
     "data": {
      "text/html": [
       "<div>\n",
       "<style scoped>\n",
       "    .dataframe tbody tr th:only-of-type {\n",
       "        vertical-align: middle;\n",
       "    }\n",
       "\n",
       "    .dataframe tbody tr th {\n",
       "        vertical-align: top;\n",
       "    }\n",
       "\n",
       "    .dataframe thead th {\n",
       "        text-align: right;\n",
       "    }\n",
       "</style>\n",
       "<table border=\"1\" class=\"dataframe\">\n",
       "  <thead>\n",
       "    <tr style=\"text-align: right;\">\n",
       "      <th></th>\n",
       "      <th>RI</th>\n",
       "      <th>Na</th>\n",
       "      <th>Mg</th>\n",
       "      <th>Al</th>\n",
       "      <th>Si</th>\n",
       "      <th>K</th>\n",
       "      <th>Ca</th>\n",
       "      <th>Ba</th>\n",
       "      <th>Fe</th>\n",
       "      <th>Type</th>\n",
       "    </tr>\n",
       "  </thead>\n",
       "  <tbody>\n",
       "    <tr>\n",
       "      <th>0</th>\n",
       "      <td>1.52101</td>\n",
       "      <td>13.64</td>\n",
       "      <td>4.49</td>\n",
       "      <td>1.10</td>\n",
       "      <td>71.78</td>\n",
       "      <td>0.06</td>\n",
       "      <td>8.75</td>\n",
       "      <td>0.0</td>\n",
       "      <td>0.0</td>\n",
       "      <td>1</td>\n",
       "    </tr>\n",
       "    <tr>\n",
       "      <th>1</th>\n",
       "      <td>1.51761</td>\n",
       "      <td>13.89</td>\n",
       "      <td>3.60</td>\n",
       "      <td>1.36</td>\n",
       "      <td>72.73</td>\n",
       "      <td>0.48</td>\n",
       "      <td>7.83</td>\n",
       "      <td>0.0</td>\n",
       "      <td>0.0</td>\n",
       "      <td>1</td>\n",
       "    </tr>\n",
       "    <tr>\n",
       "      <th>2</th>\n",
       "      <td>1.51618</td>\n",
       "      <td>13.53</td>\n",
       "      <td>3.55</td>\n",
       "      <td>1.54</td>\n",
       "      <td>72.99</td>\n",
       "      <td>0.39</td>\n",
       "      <td>7.78</td>\n",
       "      <td>0.0</td>\n",
       "      <td>0.0</td>\n",
       "      <td>1</td>\n",
       "    </tr>\n",
       "    <tr>\n",
       "      <th>3</th>\n",
       "      <td>1.51766</td>\n",
       "      <td>13.21</td>\n",
       "      <td>3.69</td>\n",
       "      <td>1.29</td>\n",
       "      <td>72.61</td>\n",
       "      <td>0.57</td>\n",
       "      <td>8.22</td>\n",
       "      <td>0.0</td>\n",
       "      <td>0.0</td>\n",
       "      <td>1</td>\n",
       "    </tr>\n",
       "    <tr>\n",
       "      <th>4</th>\n",
       "      <td>1.51742</td>\n",
       "      <td>13.27</td>\n",
       "      <td>3.62</td>\n",
       "      <td>1.24</td>\n",
       "      <td>73.08</td>\n",
       "      <td>0.55</td>\n",
       "      <td>8.07</td>\n",
       "      <td>0.0</td>\n",
       "      <td>0.0</td>\n",
       "      <td>1</td>\n",
       "    </tr>\n",
       "  </tbody>\n",
       "</table>\n",
       "</div>"
      ],
      "text/plain": [
       "        RI     Na    Mg    Al     Si     K    Ca   Ba   Fe  Type\n",
       "0  1.52101  13.64  4.49  1.10  71.78  0.06  8.75  0.0  0.0     1\n",
       "1  1.51761  13.89  3.60  1.36  72.73  0.48  7.83  0.0  0.0     1\n",
       "2  1.51618  13.53  3.55  1.54  72.99  0.39  7.78  0.0  0.0     1\n",
       "3  1.51766  13.21  3.69  1.29  72.61  0.57  8.22  0.0  0.0     1\n",
       "4  1.51742  13.27  3.62  1.24  73.08  0.55  8.07  0.0  0.0     1"
      ]
     },
     "metadata": {},
     "execution_count": 105
    }
   ],
   "metadata": {}
  },
  {
   "cell_type": "code",
   "execution_count": 106,
   "source": [
    "X=data.iloc[:,:-1]\n",
    "y=data.iloc[:,-1]\n",
    "xtrain,xtest,ytrain,ytest=train_test_split(X,y,test_size=0.3,stratify=y,random_state=0)"
   ],
   "outputs": [],
   "metadata": {}
  },
  {
   "cell_type": "code",
   "execution_count": 107,
   "source": [
    "model=GradientBoostingClassifier(random_state=123).fit(xtrain,ytrain)\n",
    "score_metrics(model)"
   ],
   "outputs": [
    {
     "output_type": "stream",
     "name": "stdout",
     "text": [
      "GradientBoostingClassifier得分状况如下：\n",
      "训练集准确率为：1.0\n",
      "测试集准确率为：0.8\n",
      "准确率为：0.5538461538461539\n",
      "灵敏度为：0.8695652173913043\n",
      "召回率为：0.8333333333333334\n"
     ]
    },
    {
     "output_type": "display_data",
     "data": {
      "image/png": "[encoded data removed]",
      "text/plain": [
       "<Figure size 360x360 with 2 Axes>"
      ]
     },
     "metadata": {
      "needs_background": "light"
     }
    },
    {
     "output_type": "display_data",
     "data": {
      "image/png": "[encoded data removed]",
      "text/plain": [
       "<Figure size 1440x360 with 1 Axes>"
      ]
     },
     "metadata": {
      "needs_background": "light"
     }
    }
   ],
   "metadata": {}
  },
  {
   "cell_type": "code",
   "execution_count": 108,
   "source": [
    "kfold=StratifiedKFold(n_splits=5,shuffle=True,random_state=1)\n",
    "model=RandomizedSearchCV(estimator=GradientBoostingClassifier(random_state=123),param_distributions=param_distributions,cv=kfold,random_state=66)\n",
    "score_metrics_hyper(model.fit(xtrain,ytrain))"
   ],
   "outputs": [
    {
     "output_type": "stream",
     "name": "stdout",
     "text": [
      "RandomizedSearchCV得分状况如下：\n",
      "训练集准确率为：0.9932885906040269\n",
      "测试集准确率为：0.7384615384615385\n",
      "准确率为：0.5538461538461539\n",
      "灵敏度为：0.782608695652174\n",
      "召回率为：0.782608695652174\n",
      "最佳超参数集：{'subsample': 0.6, 'n_estimators': 17, 'max_depth': 4, 'learning_rate': 0.1}\n"
     ]
    },
    {
     "output_type": "display_data",
     "data": {
      "image/png": "[encoded data removed]",
      "text/plain": [
       "<Figure size 360x360 with 2 Axes>"
      ]
     },
     "metadata": {
      "needs_background": "light"
     }
    },
    {
     "output_type": "display_data",
     "data": {
      "image/png": "[encoded data removed]",
      "text/plain": [
       "<Figure size 1440x360 with 1 Axes>"
      ]
     },
     "metadata": {
      "needs_background": "light"
     }
    }
   ],
   "metadata": {}
  },
  {
   "cell_type": "markdown",
   "source": [
    "## 四、XGBoost算法\n",
    "若样本容量较大，则推荐使用陈天奇团队开发的xgboost模块。该模块仍然使用梯度提升法，但作了许多改进：使用牛顿下降法计算下降方向、改进决策树算法、使用稀疏矩阵等。既适用于分类问题，也适用于回归问题。\n",
    "### 1、回归问题"
   ],
   "metadata": {}
  },
  {
   "cell_type": "code",
   "execution_count": 111,
   "source": [
    "import xgboost as xgb"
   ],
   "outputs": [],
   "metadata": {}
  },
  {
   "cell_type": "code",
   "execution_count": 139,
   "source": [
    "data=load_boston()\n",
    "X=pd.DataFrame(data.data,columns=data.feature_names)\n",
    "y=data.target.reshape(-1,1)\n",
    "xtrain,xtest,ytrain,ytest=train_test_split(X,y,test_size=0.3,random_state=1)"
   ],
   "outputs": [],
   "metadata": {}
  },
  {
   "cell_type": "code",
   "execution_count": 140,
   "source": [
    "model=xgb.XGBRegressor(objective='reg:squarederror',n_estimators=300,max_depth=6,subsample=0.6,colsample_bytree=0.8,learning_rate=0.1,random_state=0)\n",
    "model.fit(xtrain,ytrain)"
   ],
   "outputs": [
    {
     "output_type": "execute_result",
     "data": {
      "text/plain": [
       "XGBRegressor(base_score=0.5, booster='gbtree', colsample_bylevel=1,\n",
       "             colsample_bynode=1, colsample_bytree=0.8, gamma=0, gpu_id=-1,\n",
       "             importance_type='gain', interaction_constraints='',\n",
       "             learning_rate=0.1, max_delta_step=0, max_depth=6,\n",
       "             min_child_weight=1, missing=nan, monotone_constraints='()',\n",
       "             n_estimators=300, n_jobs=8, num_parallel_tree=1, random_state=0,\n",
       "             reg_alpha=0, reg_lambda=1, scale_pos_weight=1, subsample=0.6,\n",
       "             tree_method='exact', validate_parameters=1, verbosity=None)"
      ]
     },
     "metadata": {},
     "execution_count": 140
    }
   ],
   "metadata": {}
  },
  {
   "cell_type": "code",
   "execution_count": 141,
   "source": [
    "model.score(xtrain,ytrain),model.score(xtest,ytest)"
   ],
   "outputs": [
    {
     "output_type": "execute_result",
     "data": {
      "text/plain": [
       "(0.9999910804157431, 0.9027337476066284)"
      ]
     },
     "metadata": {},
     "execution_count": 141
    }
   ],
   "metadata": {}
  },
  {
   "cell_type": "code",
   "execution_count": 148,
   "source": [
    "pred=model.predict(xtest)\n",
    "rmse=np.sqrt(mean_squared_error(ytest,pred))\n",
    "rmse"
   ],
   "outputs": [
    {
     "output_type": "execute_result",
     "data": {
      "text/plain": [
       "2.9857810494791392"
      ]
     },
     "metadata": {},
     "execution_count": 148
    }
   ],
   "metadata": {}
  },
  {
   "cell_type": "code",
   "execution_count": 149,
   "source": [
    "params={'objective':'reg:squarederror','max_depth':6,'subsample':0.6,'colsample_bytree':0.8,'learning_rate':0.1}\n",
    "dtrain=xgb.DMatrix(data=xtrain,label=ytrain)#DataMatrix，优化了数据结构"
   ],
   "outputs": [],
   "metadata": {}
  },
  {
   "cell_type": "code",
   "execution_count": 151,
   "source": [
    "results=xgb.cv(dtrain=dtrain,params=params,nfold=10,metrics='rmse',num_boost_round=300,as_pandas=True,seed=123)#num_round_boost表示基学习器的个数"
   ],
   "outputs": [],
   "metadata": {}
  },
  {
   "cell_type": "code",
   "execution_count": 156,
   "source": [
    "results.head(),results.shape"
   ],
   "outputs": [
    {
     "output_type": "execute_result",
     "data": {
      "text/plain": [
       "(   train-rmse-mean  train-rmse-std  test-rmse-mean  test-rmse-std\n",
       " 0        21.449186        0.185967       21.430464       1.797494\n",
       " 1        19.474505        0.186958       19.472604       1.707953\n",
       " 2        17.704069        0.173372       17.740954       1.636270\n",
       " 3        16.110092        0.167608       16.209880       1.567481\n",
       " 4        14.679248        0.153306       14.785130       1.480004,\n",
       " (300, 4))"
      ]
     },
     "metadata": {},
     "execution_count": 156
    }
   ],
   "metadata": {}
  },
  {
   "cell_type": "markdown",
   "source": [
    "### 2、分类问题"
   ],
   "metadata": {}
  },
  {
   "cell_type": "code",
   "execution_count": 157,
   "source": [
    "data=pd.read_csv('/Users/singal/Desktop/Data/MLPython_Data/spam.csv')\n",
    "X=data.iloc[:,:-1]\n",
    "y=data.iloc[:,-1]\n",
    "xtrain,xtest,ytrain,ytest=train_test_split(X,y,random_state=0,test_size=0.2,stratify=y)"
   ],
   "outputs": [],
   "metadata": {}
  },
  {
   "cell_type": "code",
   "execution_count": 158,
   "source": [
    "model=xgb.XGBClassifier(objective='binary:logistic',n_estimators=300,max_depth=6,subsample=0.6,colsample_bytree=0.8,learning_rate=0.1,random_state=0)\n",
    "model.fit(xtrain,ytrain)"
   ],
   "outputs": [
    {
     "output_type": "stream",
     "name": "stderr",
     "text": [
      "/Users/singal/miniforge3/envs/py38/lib/python3.8/site-packages/xgboost/sklearn.py:888: UserWarning: The use of label encoder in XGBClassifier is deprecated and will be removed in a future release. To remove this warning, do the following: 1) Pass option use_label_encoder=False when constructing XGBClassifier object; and 2) Encode your labels (y) as integers starting with 0, i.e. 0, 1, 2, ..., [num_class - 1].\n",
      "  warnings.warn(label_encoder_deprecation_msg, UserWarning)\n"
     ]
    },
    {
     "output_type": "stream",
     "name": "stdout",
     "text": [
      "[17:37:23] WARNING: /Users/ktietz/demo/mc3/conda-bld/xgboost-split_1628682908089/work/src/learner.cc:1061: Starting in XGBoost 1.3.0, the default evaluation metric used with the objective 'binary:logistic' was changed from 'error' to 'logloss'. Explicitly set eval_metric if you'd like to restore the old behavior.\n"
     ]
    },
    {
     "output_type": "execute_result",
     "data": {
      "text/plain": [
       "XGBClassifier(base_score=0.5, booster='gbtree', colsample_bylevel=1,\n",
       "              colsample_bynode=1, colsample_bytree=0.8, gamma=0, gpu_id=-1,\n",
       "              importance_type='gain', interaction_constraints='',\n",
       "              learning_rate=0.1, max_delta_step=0, max_depth=6,\n",
       "              min_child_weight=1, missing=nan, monotone_constraints='()',\n",
       "              n_estimators=300, n_jobs=8, num_parallel_tree=1, random_state=0,\n",
       "              reg_alpha=0, reg_lambda=1, scale_pos_weight=1, subsample=0.6,\n",
       "              tree_method='exact', validate_parameters=1, verbosity=None)"
      ]
     },
     "metadata": {},
     "execution_count": 158
    }
   ],
   "metadata": {}
  },
  {
   "cell_type": "code",
   "execution_count": 159,
   "source": [
    "model.score(xtest,ytest)"
   ],
   "outputs": [
    {
     "output_type": "execute_result",
     "data": {
      "text/plain": [
       "0.9565689467969598"
      ]
     },
     "metadata": {},
     "execution_count": 159
    }
   ],
   "metadata": {}
  },
  {
   "cell_type": "code",
   "execution_count": 162,
   "source": [
    "pred=model.predict(xtest)\n",
    "matrix=confusion_matrix(ytest,pred)\n",
    "accuracy,sensitivity,recall=get_metrics(matrix)\n",
    "print(f'准确率为：{accuracy}\\n灵敏度为：{sensitivity}\\n召回率为：{recall}')"
   ],
   "outputs": [
    {
     "output_type": "stream",
     "name": "stdout",
     "text": [
      "准确率为：0.9565689467969598\n",
      "灵敏度为：0.9449035812672176\n",
      "召回率为：0.9449035812672176\n"
     ]
    }
   ],
   "metadata": {}
  }
 ],
 "metadata": {
  "orig_nbformat": 4,
  "language_info": {
   "name": "python",
   "version": "3.8.10",
   "mimetype": "text/x-python",
   "codemirror_mode": {
    "name": "ipython",
    "version": 3
   },
   "pygments_lexer": "ipython3",
   "nbconvert_exporter": "python",
   "file_extension": ".py"
  },
  "kernelspec": {
   "name": "python3",
   "display_name": "Python 3.8.10 64-bit ('py38': conda)"
  },
  "interpreter": {
   "hash": "f1ffc00fb97475eb9496feab2a73d6a4b994cb3d02b9b32f35ae9ff01e27d2f8"
  }
 },
 "nbformat": 4,
 "nbformat_minor": 2
}